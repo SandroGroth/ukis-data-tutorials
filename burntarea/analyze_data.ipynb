{
 "cells": [
  {
   "cell_type": "markdown",
   "id": "a0de835a",
   "metadata": {
    "pycharm": {
     "name": "#%% md\n"
    }
   },
   "source": [
    "# Burnt Area Analysis\n",
    "## Burnt Area Daily NRT Incremental Product / Monthly Composite / Yearly Composite - Europe, Sentinel-3"
   ]
  },
  {
   "cell_type": "code",
   "execution_count": 1,
   "id": "66f23ff6-7eef-4fcb-ad74-c0dca7ed56be",
   "metadata": {
    "pycharm": {
     "name": "#%%\n"
    }
   },
   "outputs": [],
   "source": [
    "# we will need some imports, let's get them out of the way\n",
    "from affine import Affine\n",
    "import geopandas as gpd\n",
    "import matplotlib.pyplot as plt\n",
    "import numpy as np\n",
    "import math\n",
    "\n",
    "import rasterio.windows\n",
    "from rasterio import features\n",
    "from rasterio.enums import MergeAlg, Resampling\n",
    "from rasterio.plot import show\n",
    "from rasterio.vrt import WarpedVRT"
   ]
  },
  {
   "cell_type": "markdown",
   "id": "8120cfa4",
   "metadata": {
    "pycharm": {
     "name": "#%% md\n"
    }
   },
   "source": [
    "### Example"
   ]
  },
  {
   "cell_type": "markdown",
   "id": "c257d9dd",
   "metadata": {
    "pycharm": {
     "name": "#%% md\n"
    }
   },
   "source": [
    "The easiest way to work with the data is using the [OGC Feature API](https://github.com/opengeospatial/ogcapi-features) to query the [monthly](https://geoservice.dlr.de/eoc/ogc/features/collections/demo:BURNTAREA_S3_EFR_P1D) and [yearly](https://geoservice.dlr.de/eoc/ogc/features/collections/demo:BURNTAREA_S3_EFR_P1Y) products.\n",
    "\n",
    "You can use filtering to query the data serverside. For example we can query all monthly products with a `confidence` of over `95%` and a `burn_severity` of motr than `0.2` (more positive values indicate higher burn severities):\n",
    "https://geoservice.dlr.de/eoc/ogc/features/collections/demo:BURNTAREA_S3_EFR_P1M/items?f=application%2Fgeo%2Bjson&limit=1&filter=confidence_total>95%20AND%20burn_severity>0.2\n",
    "\n",
    "However, let's start with some analysis. First we will need some auxiliary data (the state territory of Greece)."
   ]
  },
  {
   "cell_type": "markdown",
   "id": "e356f457",
   "metadata": {
    "pycharm": {
     "name": "#%% md\n"
    }
   },
   "source": [
    "#### Auxiliary data: Load global country boundaries from Natural Earth (low resolution)"
   ]
  },
  {
   "cell_type": "code",
   "execution_count": 2,
   "id": "6d493683",
   "metadata": {
    "collapsed": false,
    "jupyter": {
     "outputs_hidden": false
    },
    "pycharm": {
     "name": "#%%\n"
    }
   },
   "outputs": [
    {
     "data": {
      "text/plain": [
       "<AxesSubplot:>"
      ]
     },
     "execution_count": 2,
     "metadata": {},
     "output_type": "execute_result"
    },
    {
     "data": {
      "image/png": "[encoded data removed]",
      "text/plain": [
       "<Figure size 432x288 with 1 Axes>"
      ]
     },
     "metadata": {
      "needs_background": "light"
     },
     "output_type": "display_data"
    }
   ],
   "source": [
    "countries = gpd.read_file(gpd.datasets.get_path('naturalearth_lowres'))  # be aware that this is low-resolution and just used for demo purposes\n",
    "greece = countries[countries[\"iso_a3\"] == \"GRC\"]\n",
    "greece.plot()"
   ]
  },
  {
   "cell_type": "code",
   "execution_count": 3,
   "id": "def68865",
   "metadata": {
    "collapsed": false,
    "jupyter": {
     "outputs_hidden": false
    },
    "pycharm": {
     "name": "#%%\n"
    }
   },
   "outputs": [],
   "source": [
    "# get the bounds, we will use them to query data with later on\n",
    "minx, miny, maxx, maxy = greece.total_bounds"
   ]
  },
  {
   "cell_type": "markdown",
   "id": "dce086ae",
   "metadata": {
    "pycharm": {
     "name": "#%% md\n"
    }
   },
   "source": [
    "#### Exploration with Geopandas"
   ]
  },
  {
   "cell_type": "markdown",
   "id": "5b9e4aad",
   "metadata": {
    "pycharm": {
     "name": "#%% md\n"
    }
   },
   "source": [
    "Let's get all the burntareas of Greece in the last years."
   ]
  },
  {
   "cell_type": "code",
   "execution_count": 4,
   "id": "5f31ccd8",
   "metadata": {
    "collapsed": false,
    "jupyter": {
     "outputs_hidden": false
    },
    "pycharm": {
     "name": "#%%\n"
    }
   },
   "outputs": [
    {
     "data": {
      "text/html": [
       "<div>\n",
       "<style scoped>\n",
       "    .dataframe tbody tr th:only-of-type {\n",
       "        vertical-align: middle;\n",
       "    }\n",
       "\n",
       "    .dataframe tbody tr th {\n",
       "        vertical-align: top;\n",
       "    }\n",
       "\n",
       "    .dataframe thead th {\n",
       "        text-align: right;\n",
       "    }\n",
       "</style>\n",
       "<table border=\"1\" class=\"dataframe\">\n",
       "  <thead>\n",
       "    <tr style=\"text-align: right;\">\n",
       "      <th></th>\n",
       "      <th>first_seen</th>\n",
       "      <th>burn_severity</th>\n",
       "      <th>confidence_total</th>\n",
       "      <th>t_stamp_start</th>\n",
       "      <th>area_ha</th>\n",
       "      <th>geometry</th>\n",
       "    </tr>\n",
       "  </thead>\n",
       "  <tbody>\n",
       "    <tr>\n",
       "      <th>0</th>\n",
       "      <td>2017-09-15T08:57:20+00:00</td>\n",
       "      <td>-0.160346</td>\n",
       "      <td>87.26</td>\n",
       "      <td>2017-01-01T00:00:00+00:00</td>\n",
       "      <td>341.999600</td>\n",
       "      <td>POLYGON ((22.31814 39.41631, 22.31867 39.41901...</td>\n",
       "    </tr>\n",
       "    <tr>\n",
       "      <th>1</th>\n",
       "      <td>2017-11-02T08:11:13+00:00</td>\n",
       "      <td>-0.084798</td>\n",
       "      <td>88.98</td>\n",
       "      <td>2017-01-01T00:00:00+00:00</td>\n",
       "      <td>8.999999</td>\n",
       "      <td>POLYGON ((22.09033 40.04062, 22.09086 40.04332...</td>\n",
       "    </tr>\n",
       "    <tr>\n",
       "      <th>2</th>\n",
       "      <td>2017-08-30T09:09:18+00:00</td>\n",
       "      <td>-0.012951</td>\n",
       "      <td>90.61</td>\n",
       "      <td>2017-01-01T00:00:00+00:00</td>\n",
       "      <td>9.000000</td>\n",
       "      <td>POLYGON ((26.23716 39.86711, 26.23786 39.86977...</td>\n",
       "    </tr>\n",
       "    <tr>\n",
       "      <th>3</th>\n",
       "      <td>2017-08-30T09:09:18+00:00</td>\n",
       "      <td>-0.212084</td>\n",
       "      <td>86.09</td>\n",
       "      <td>2017-01-01T00:00:00+00:00</td>\n",
       "      <td>9.000000</td>\n",
       "      <td>POLYGON ((22.32408 39.39330, 22.32461 39.39600...</td>\n",
       "    </tr>\n",
       "    <tr>\n",
       "      <th>4</th>\n",
       "      <td>2017-12-12T09:13:02+00:00</td>\n",
       "      <td>-0.007912</td>\n",
       "      <td>90.73</td>\n",
       "      <td>2017-01-01T00:00:00+00:00</td>\n",
       "      <td>9.000000</td>\n",
       "      <td>POLYGON ((22.25734 39.03393, 22.25786 39.03663...</td>\n",
       "    </tr>\n",
       "  </tbody>\n",
       "</table>\n",
       "</div>"
      ],
      "text/plain": [
       "                  first_seen  burn_severity  confidence_total  \\\n",
       "0  2017-09-15T08:57:20+00:00      -0.160346             87.26   \n",
       "1  2017-11-02T08:11:13+00:00      -0.084798             88.98   \n",
       "2  2017-08-30T09:09:18+00:00      -0.012951             90.61   \n",
       "3  2017-08-30T09:09:18+00:00      -0.212084             86.09   \n",
       "4  2017-12-12T09:13:02+00:00      -0.007912             90.73   \n",
       "\n",
       "               t_stamp_start     area_ha  \\\n",
       "0  2017-01-01T00:00:00+00:00  341.999600   \n",
       "1  2017-01-01T00:00:00+00:00    8.999999   \n",
       "2  2017-01-01T00:00:00+00:00    9.000000   \n",
       "3  2017-01-01T00:00:00+00:00    9.000000   \n",
       "4  2017-01-01T00:00:00+00:00    9.000000   \n",
       "\n",
       "                                            geometry  \n",
       "0  POLYGON ((22.31814 39.41631, 22.31867 39.41901...  \n",
       "1  POLYGON ((22.09033 40.04062, 22.09086 40.04332...  \n",
       "2  POLYGON ((26.23716 39.86711, 26.23786 39.86977...  \n",
       "3  POLYGON ((22.32408 39.39330, 22.32461 39.39600...  \n",
       "4  POLYGON ((22.25734 39.03393, 22.25786 39.03663...  "
      ]
     },
     "execution_count": 4,
     "metadata": {},
     "output_type": "execute_result"
    }
   ],
   "source": [
    "# filter the area of Greece directly\n",
    "\n",
    "yearly_url = f\"https://geoservice.dlr.de/eoc/ogc/features/collections/demo:BURNTAREA_S3_EFR_P1Y/items?f=application%2Fjson&bbox={minx},{miny},{maxx},{maxy}\"\n",
    "\n",
    "yearly_grc = gpd.read_file(yearly_url)  \n",
    "\n",
    "# drop some columns we do not need later on, you can also do this directly\n",
    "yearly_grc.drop([\"id\", \"t_stamp_end\", \"region\", \"name\"], axis=1, inplace=True)  \n",
    "\n",
    "yearly_grc.head()"
   ]
  },
  {
   "cell_type": "markdown",
   "id": "7ab8aead",
   "metadata": {
    "pycharm": {
     "name": "#%% md\n"
    }
   },
   "source": [
    "- `burn_severity`: This column gives a measure of the loss in vegetation fitness for each burnt area, on a scale between -2 and +2. It is calculated by determining the Normalized Difference Vegetation Index ([NVDI](https://de.wikipedia.org/wiki/Normalized_Difference_Vegetation_Index)) for two points in time, before and after the fire (pre/post). The post fire value is subtracted from the pre fire value (differential NDVI), so that the more positive the result gets, the higher is the loss in vegetation fitness. The column represents the mean value of the totality of differential values within the burnt area perimeter.\n",
    "\n",
    "- `confidence`: The value makes a statement about the estimated accuracy of the burnt area perimeter. It incorporates the severity of the burning together with the number of corresponding active fire measurements, with the result given in percent.\n",
    "\n",
    "- `first seen`: This represents the exact point in time when the first burning inside the final perimeter was detected.\n",
    "\n",
    "- `t_stamp_start` / `t_stamp_stop`: These columns are used to set time range for the query of the whole product. \n",
    "\n",
    "- `geometry`: This is the perimeter of the burnt area in geographic projection (WGS84), provided in the Well-Known Text (WKT) notation.\n",
    "\n",
    "- `area_ha`: This is the exact size of the extent of each burnt area, giben in hectares. While the geometries are provided in WGS84 (latitude/longitude), the determination of this value is based on the Lambert Azimuthal (LAEA) projection. "
   ]
  },
  {
   "cell_type": "markdown",
   "id": "2dc1d9b4",
   "metadata": {
    "pycharm": {
     "name": "#%% md\n"
    }
   },
   "source": [
    "Let's see how much it burnt per year.\n",
    "Note again that we used a low-resolution bounding box of Greece, so don't worry about how correct these numbers are."
   ]
  },
  {
   "cell_type": "code",
   "execution_count": 5,
   "id": "31ada792",
   "metadata": {
    "collapsed": false,
    "jupyter": {
     "outputs_hidden": false
    },
    "pycharm": {
     "name": "#%%\n"
    }
   },
   "outputs": [
    {
     "data": {
      "text/html": [
       "<div>\n",
       "<style scoped>\n",
       "    .dataframe tbody tr th:only-of-type {\n",
       "        vertical-align: middle;\n",
       "    }\n",
       "\n",
       "    .dataframe tbody tr th {\n",
       "        vertical-align: top;\n",
       "    }\n",
       "\n",
       "    .dataframe thead th {\n",
       "        text-align: right;\n",
       "    }\n",
       "</style>\n",
       "<table border=\"1\" class=\"dataframe\">\n",
       "  <thead>\n",
       "    <tr style=\"text-align: right;\">\n",
       "      <th></th>\n",
       "      <th>t_stamp_start</th>\n",
       "      <th>area_ha</th>\n",
       "    </tr>\n",
       "  </thead>\n",
       "  <tbody>\n",
       "    <tr>\n",
       "      <th>0</th>\n",
       "      <td>2017-01-01</td>\n",
       "      <td>200700.860779</td>\n",
       "    </tr>\n",
       "    <tr>\n",
       "      <th>1</th>\n",
       "      <td>2018-01-01</td>\n",
       "      <td>126189.224045</td>\n",
       "    </tr>\n",
       "    <tr>\n",
       "      <th>2</th>\n",
       "      <td>2019-01-01</td>\n",
       "      <td>147717.111014</td>\n",
       "    </tr>\n",
       "    <tr>\n",
       "      <th>3</th>\n",
       "      <td>2020-01-01</td>\n",
       "      <td>111564.161123</td>\n",
       "    </tr>\n",
       "    <tr>\n",
       "      <th>4</th>\n",
       "      <td>2021-01-01</td>\n",
       "      <td>198513.474203</td>\n",
       "    </tr>\n",
       "  </tbody>\n",
       "</table>\n",
       "</div>"
      ],
      "text/plain": [
       "  t_stamp_start        area_ha\n",
       "0    2017-01-01  200700.860779\n",
       "1    2018-01-01  126189.224045\n",
       "2    2019-01-01  147717.111014\n",
       "3    2020-01-01  111564.161123\n",
       "4    2021-01-01  198513.474203"
      ]
     },
     "execution_count": 5,
     "metadata": {},
     "output_type": "execute_result"
    }
   ],
   "source": [
    "yearly_grc_ha = yearly_grc.groupby([\"t_stamp_start\"]).area_ha.sum().reset_index()  # group by year and sum all areas\n",
    "\n",
    "yearly_grc_ha.t_stamp_start = yearly_grc_ha.t_stamp_start.astype(np.datetime64)  # this is just for better plotting\n",
    "yearly_grc_ha.head()"
   ]
  },
  {
   "cell_type": "code",
   "execution_count": 6,
   "id": "e0839f83",
   "metadata": {
    "collapsed": false,
    "jupyter": {
     "outputs_hidden": false
    },
    "pycharm": {
     "name": "#%%\n"
    }
   },
   "outputs": [
    {
     "data": {
      "text/plain": [
       "[<matplotlib.lines.Line2D at 0x1eab993ae80>]"
      ]
     },
     "execution_count": 6,
     "metadata": {},
     "output_type": "execute_result"
    },
    {
     "data": {
      "image/png": "[encoded data removed]",
      "text/plain": [
       "<Figure size 432x288 with 1 Axes>"
      ]
     },
     "metadata": {
      "needs_background": "light"
     },
     "output_type": "display_data"
    }
   ],
   "source": [
    "# let's have a look\n",
    "years = yearly_grc_ha.t_stamp_start.dt.year\n",
    "plt.xticks(range(math.floor(min(years)), math.ceil(max(years))+1))\n",
    "plt.plot(years, yearly_grc_ha.area_ha)"
   ]
  },
  {
   "cell_type": "code",
   "execution_count": 7,
   "id": "6fcd5ff6",
   "metadata": {
    "collapsed": false,
    "jupyter": {
     "outputs_hidden": false
    },
    "pycharm": {
     "name": "#%%\n"
    }
   },
   "outputs": [
    {
     "data": {
      "text/html": [
       "<div>\n",
       "<style scoped>\n",
       "    .dataframe tbody tr th:only-of-type {\n",
       "        vertical-align: middle;\n",
       "    }\n",
       "\n",
       "    .dataframe tbody tr th {\n",
       "        vertical-align: top;\n",
       "    }\n",
       "\n",
       "    .dataframe thead th {\n",
       "        text-align: right;\n",
       "    }\n",
       "</style>\n",
       "<table border=\"1\" class=\"dataframe\">\n",
       "  <thead>\n",
       "    <tr style=\"text-align: right;\">\n",
       "      <th></th>\n",
       "      <th>first_seen</th>\n",
       "      <th>burn_severity</th>\n",
       "      <th>confidence_total</th>\n",
       "      <th>t_stamp_start</th>\n",
       "      <th>area_ha</th>\n",
       "      <th>geometry</th>\n",
       "    </tr>\n",
       "  </thead>\n",
       "  <tbody>\n",
       "    <tr>\n",
       "      <th>2596</th>\n",
       "      <td>2021-12-26T07:52:50+00:00</td>\n",
       "      <td>-0.176960</td>\n",
       "      <td>86.89</td>\n",
       "      <td>2021-01-01T00:00:00+00:00</td>\n",
       "      <td>9.000001</td>\n",
       "      <td>POLYGON ((26.42977 41.23592, 26.43052 41.23857...</td>\n",
       "    </tr>\n",
       "    <tr>\n",
       "      <th>2600</th>\n",
       "      <td>2021-09-16T08:11:35+00:00</td>\n",
       "      <td>-0.037103</td>\n",
       "      <td>90.07</td>\n",
       "      <td>2021-01-01T00:00:00+00:00</td>\n",
       "      <td>207.000150</td>\n",
       "      <td>POLYGON ((20.33609 40.64541, 20.33563 40.64271...</td>\n",
       "    </tr>\n",
       "    <tr>\n",
       "      <th>2601</th>\n",
       "      <td>2021-03-04T09:33:42+00:00</td>\n",
       "      <td>-0.032196</td>\n",
       "      <td>90.18</td>\n",
       "      <td>2021-01-01T00:00:00+00:00</td>\n",
       "      <td>62.999805</td>\n",
       "      <td>POLYGON ((21.10510 40.31302, 21.10608 40.31842...</td>\n",
       "    </tr>\n",
       "    <tr>\n",
       "      <th>2602</th>\n",
       "      <td>2021-10-30T08:12:46+00:00</td>\n",
       "      <td>-0.022222</td>\n",
       "      <td>90.40</td>\n",
       "      <td>2021-01-01T00:00:00+00:00</td>\n",
       "      <td>9.000000</td>\n",
       "      <td>POLYGON ((24.13898 41.00044, 24.14245 40.99989...</td>\n",
       "    </tr>\n",
       "    <tr>\n",
       "      <th>2606</th>\n",
       "      <td>2021-03-04T08:32:08+00:00</td>\n",
       "      <td>-0.054673</td>\n",
       "      <td>89.67</td>\n",
       "      <td>2021-01-01T00:00:00+00:00</td>\n",
       "      <td>9.000000</td>\n",
       "      <td>POLYGON ((20.31688 40.63660, 20.31734 40.63930...</td>\n",
       "    </tr>\n",
       "  </tbody>\n",
       "</table>\n",
       "</div>"
      ],
      "text/plain": [
       "                     first_seen  burn_severity  confidence_total  \\\n",
       "2596  2021-12-26T07:52:50+00:00      -0.176960             86.89   \n",
       "2600  2021-09-16T08:11:35+00:00      -0.037103             90.07   \n",
       "2601  2021-03-04T09:33:42+00:00      -0.032196             90.18   \n",
       "2602  2021-10-30T08:12:46+00:00      -0.022222             90.40   \n",
       "2606  2021-03-04T08:32:08+00:00      -0.054673             89.67   \n",
       "\n",
       "                  t_stamp_start     area_ha  \\\n",
       "2596  2021-01-01T00:00:00+00:00    9.000001   \n",
       "2600  2021-01-01T00:00:00+00:00  207.000150   \n",
       "2601  2021-01-01T00:00:00+00:00   62.999805   \n",
       "2602  2021-01-01T00:00:00+00:00    9.000000   \n",
       "2606  2021-01-01T00:00:00+00:00    9.000000   \n",
       "\n",
       "                                               geometry  \n",
       "2596  POLYGON ((26.42977 41.23592, 26.43052 41.23857...  \n",
       "2600  POLYGON ((20.33609 40.64541, 20.33563 40.64271...  \n",
       "2601  POLYGON ((21.10510 40.31302, 21.10608 40.31842...  \n",
       "2602  POLYGON ((24.13898 41.00044, 24.14245 40.99989...  \n",
       "2606  POLYGON ((20.31688 40.63660, 20.31734 40.63930...  "
      ]
     },
     "execution_count": 7,
     "metadata": {},
     "output_type": "execute_result"
    }
   ],
   "source": [
    "# alright, let's take a closer look at 2021. We start by filtering the dataframe again:\n",
    "\n",
    "grc_2021 = yearly_grc[yearly_grc[\"t_stamp_start\"] == \"2021-01-01T00:00:00+00:00\"]\n",
    "grc_2021.head()"
   ]
  },
  {
   "cell_type": "code",
   "execution_count": 8,
   "id": "5c2b4504",
   "metadata": {
    "collapsed": false,
    "jupyter": {
     "outputs_hidden": false
    },
    "pycharm": {
     "name": "#%%\n"
    }
   },
   "outputs": [
    {
     "data": {
      "text/plain": [
       "<AxesSubplot:>"
      ]
     },
     "execution_count": 8,
     "metadata": {},
     "output_type": "execute_result"
    },
    {
     "data": {
      "image/png": "[encoded data removed]",
      "text/plain": [
       "<Figure size 432x288 with 1 Axes>"
      ]
     },
     "metadata": {
      "needs_background": "light"
     },
     "output_type": "display_data"
    }
   ],
   "source": [
    "# that's how it looks like, remember that the border is very low-resolution and we used a bounding box. E.g. Euboea is missing in the background map, but there was a huge fire.\n",
    "\n",
    "base = greece.plot()\n",
    "grc_2021.plot(ax=base, color=\"red\", )"
   ]
  },
  {
   "cell_type": "markdown",
   "id": "89f7a8a6",
   "metadata": {
    "pycharm": {
     "name": "#%% md\n"
    }
   },
   "source": [
    "As you can see, a lot has been burnt. Often this is due to e.g. agricultural burning and we can filter them out using landcover data."
   ]
  },
  {
   "cell_type": "markdown",
   "id": "4bbf0d90",
   "metadata": {
    "pycharm": {
     "name": "#%% md\n"
    }
   },
   "source": [
    "#### Auxiliary data: Download ESA World cover data for Greece\n",
    "\n",
    "We will take the boundary coordinates of Greece to read in the landcover data for Greece in a ~300 meter resolution, like our burnt area data."
   ]
  },
  {
   "cell_type": "code",
   "execution_count": 9,
   "id": "03ce3955",
   "metadata": {
    "collapsed": false,
    "jupyter": {
     "outputs_hidden": false
    },
    "pycharm": {
     "name": "#%%\n"
    }
   },
   "outputs": [],
   "source": [
    "# Output image transform with the resolution of ~300m.\n",
    "\n",
    "xres = 0.002777777777777777884\n",
    "yres = -0.002777777777777777884\n",
    "\n",
    "dst_width = int((maxx - minx) / xres) \n",
    "dst_height = abs(int((maxy - miny) / yres))\n",
    "dst_transform = Affine(xres, 0.0, minx, \n",
    "                       0.0, yres, maxy)\n",
    "\n",
    "# Read in and warp the LC data - this might take a bit\n",
    "\n",
    "vrt_options = {\n",
    "    \"crs\": yearly_grc.crs,\n",
    "    \"transform\": dst_transform,\n",
    "    \"height\": dst_height, \n",
    "    \"width\": dst_width,\n",
    "    \"resampling\": Resampling.nearest,\n",
    "}\n",
    "\n",
    "with rasterio.Env(AWS_NO_SIGN_REQUEST=\"YES\"):\n",
    "    with rasterio.open(\"/vsis3/esa-worldcover/v100/2020/ESA_WorldCover_10m_2020_v100_Map_AWS.vrt\") as ds:\n",
    "        with WarpedVRT(ds, **vrt_options) as vrt:\n",
    "            window = rasterio.windows.from_bounds(*greece.total_bounds, transform=vrt.transform)\n",
    "            lulc_band = vrt.read(1, window=window)"
   ]
  },
  {
   "cell_type": "markdown",
   "id": "43a5f370",
   "metadata": {
    "pycharm": {
     "name": "#%% md\n"
    }
   },
   "source": [
    "Now that we have the LC as raster we also convert our burnt area product into a raster so we can combine the data more easily"
   ]
  },
  {
   "cell_type": "code",
   "execution_count": null,
   "id": "55f4af34",
   "metadata": {
    "collapsed": false,
    "jupyter": {
     "outputs_hidden": false
    },
    "pycharm": {
     "name": "#%%\n"
    }
   },
   "outputs": [],
   "source": [
    "# get the value we want per pixel in int16\n",
    "\n",
    "burntareas_geom_value = ((geom, int(value)) for geom, value in zip(grc_2021.geometry, round(grc_2021[\"burn_severity\"] * 100,0)))\n",
    "\n",
    "# rasterize it\n",
    "grc_2021_arr = features.rasterize(\n",
    "    burntareas_geom_value,\n",
    "    out_shape=lulc_band.shape,\n",
    "    transform=dst_transform,\n",
    "    all_touched=True,\n",
    "    fill=-5,  # background value\n",
    "    merge_alg=MergeAlg.replace,\n",
    "    dtype=np.int16,\n",
    ")"
   ]
  },
  {
   "cell_type": "code",
   "execution_count": 11,
   "id": "0489dd17",
   "metadata": {
    "collapsed": false,
    "jupyter": {
     "outputs_hidden": false
    },
    "pycharm": {
     "name": "#%%\n"
    }
   },
   "outputs": [
    {
     "data": {
      "text/plain": [
       "<AxesSubplot:>"
      ]
     },
     "execution_count": 11,
     "metadata": {},
     "output_type": "execute_result"
    },
    {
     "data": {
      "image/png": "[encoded data removed]",
      "text/plain": [
       "<Figure size 720x720 with 1 Axes>"
      ]
     },
     "metadata": {
      "needs_background": "light"
     },
     "output_type": "display_data"
    }
   ],
   "source": [
    "# let's have a look, note the difference in burn severity. The raster is zoomed to the burnt area extent.\n",
    "\n",
    "fig, ax = plt.subplots(1, figsize = (10, 10))\n",
    "show(grc_2021_arr, ax = ax)\n",
    "plt.gca()"
   ]
  },
  {
   "cell_type": "markdown",
   "id": "0bf7ee01",
   "metadata": {
    "pycharm": {
     "name": "#%% md\n"
    }
   },
   "source": [
    "We use the LC to filter out any cropland from the burnt area we detected. Cropland has a value of 40 in the LC dataset we are using."
   ]
  },
  {
   "cell_type": "code",
   "execution_count": 12,
   "id": "d72af768",
   "metadata": {
    "collapsed": false,
    "jupyter": {
     "outputs_hidden": false
    },
    "pycharm": {
     "name": "#%%\n"
    }
   },
   "outputs": [
    {
     "data": {
      "text/plain": [
       "<AxesSubplot:>"
      ]
     },
     "execution_count": 12,
     "metadata": {},
     "output_type": "execute_result"
    },
    {
     "data": {
      "image/png": "[encoded data removed]",
      "text/plain": [
       "<Figure size 720x720 with 1 Axes>"
      ]
     },
     "metadata": {
      "needs_background": "light"
     },
     "output_type": "display_data"
    }
   ],
   "source": [
    " # create a filter\n",
    "crop = lulc_band == 40\n",
    "\n",
    "# set to background value\n",
    "grc_2021_arr[crop] = -5\n",
    "\n",
    "# let's have a look again, note that the burntarea in the north east was mainly agriculture burning\n",
    "fig, ax = plt.subplots(1, figsize = (10, 10))\n",
    "show(grc_2021_arr, ax = ax)\n",
    "plt.gca()"
   ]
  }
 ],
 "metadata": {
  "kernelspec": {
   "display_name": "Python 3 (ipykernel)",
   "language": "python",
   "name": "python3"
  },
  "language_info": {
   "codemirror_mode": {
    "name": "ipython",
    "version": 3
   },
   "file_extension": ".py",
   "mimetype": "text/x-python",
   "name": "python",
   "nbconvert_exporter": "python",
   "pygments_lexer": "ipython3",
   "version": "3.9.10"
  }
 },
 "nbformat": 4,
 "nbformat_minor": 5
}